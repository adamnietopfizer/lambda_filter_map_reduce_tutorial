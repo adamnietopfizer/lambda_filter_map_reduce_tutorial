{
 "cells": [
  {
   "cell_type": "markdown",
   "metadata": {},
   "source": [
    "## Data Science Thursdays: Lambda, Filter, Map, Reduce in Python Tutorial"
   ]
  },
  {
   "cell_type": "markdown",
   "metadata": {},
   "source": [
    "---\n",
    "\n",
    "## Practicing Lambda Functions"
   ]
  },
  {
   "cell_type": "markdown",
   "metadata": {},
   "source": [
    "Lets convert the following python functions into lambda expressions. To help you remember the syntax for lambda expressions a diagram is provided below:\n",
    "\n",
    "![lambda_diagram.png](lamda_diagram.png)"
   ]
  },
  {
   "cell_type": "markdown",
   "metadata": {},
   "source": [
    "### Question 1: Addition Function\n",
    "Convert the following function that adds two numbers to a lambda function."
   ]
  },
  {
   "cell_type": "code",
   "execution_count": null,
   "metadata": {},
   "outputs": [],
   "source": [
    "def add_nums(x, y):\n",
    "    return x + y"
   ]
  },
  {
   "cell_type": "code",
   "execution_count": null,
   "metadata": {},
   "outputs": [],
   "source": [
    "# Add your equivalent lambda function below and assign it to the variable add_nums_lmda:\n",
    "\n",
    "add_nums_lmda = "
   ]
  },
  {
   "cell_type": "code",
   "execution_count": null,
   "metadata": {},
   "outputs": [],
   "source": [
    "# Test your function\n",
    "assert add_nums_lmda(5,10) == add_nums(5,10), \"Your function is incorrect\"\n",
    "assert add_nums_lmda(-5,10) == add_nums(-5,10), \"Your function is incorrect\"\n",
    "assert add_nums_lmda(100,-10) == add_nums(-10,100), \"Your function is incorrect\""
   ]
  },
  {
   "cell_type": "markdown",
   "metadata": {},
   "source": [
    "### Question 2: Max Function\n",
    "\n",
    "Convert the following function that returns the max of two given numbers to a lambda function. The following syntax might help you.\n",
    "\n",
    "![if_else_expression.png](/if_else_expression.png)"
   ]
  },
  {
   "cell_type": "code",
   "execution_count": null,
   "metadata": {},
   "outputs": [],
   "source": [
    "def max_num(x,y):\n",
    "    if x > y:\n",
    "        return x\n",
    "    else:\n",
    "        return y"
   ]
  },
  {
   "cell_type": "code",
   "execution_count": null,
   "metadata": {},
   "outputs": [],
   "source": [
    "# Add your equivalent lambda function below and assign it to the variable max_num_lmda:\n",
    "\n",
    "max_num_lmda = "
   ]
  },
  {
   "cell_type": "code",
   "execution_count": null,
   "metadata": {},
   "outputs": [],
   "source": [
    "# Test your function\n",
    "assert max_num_lmda(50,10) == max_num(50,10), \"Your function is incorrect\"\n",
    "assert max_num_lmda(10,50) == max_num(10,50), \"Your function is incorrect\"\n",
    "assert max_num_lmda(50,50) == max_num(50,50), \"Your function is incorrect\""
   ]
  },
  {
   "cell_type": "markdown",
   "metadata": {},
   "source": [
    "---\n",
    "## Practicing List Comprehension"
   ]
  },
  {
   "cell_type": "markdown",
   "metadata": {},
   "source": [
    "Let's create list comprehensions for the following mathematical sequences"
   ]
  },
  {
   "cell_type": "markdown",
   "metadata": {},
   "source": [
    "### Question 3: Even Numbers"
   ]
  },
  {
   "cell_type": "code",
   "execution_count": null,
   "metadata": {},
   "outputs": [],
   "source": [
    "# Create the list that has all of the even number from 2 to 200 inclusive\n",
    "\n",
    "even_numbers = \n",
    "\n",
    "print(even_numbers)"
   ]
  },
  {
   "cell_type": "code",
   "execution_count": null,
   "metadata": {},
   "outputs": [],
   "source": [
    "# Testing your list\n",
    "def test_even_list(lst):\n",
    "    return list(range(2,201,2)) == lst\n",
    "\n",
    "test_even_list(even_numbers)"
   ]
  },
  {
   "cell_type": "markdown",
   "metadata": {},
   "source": [
    "### Question 4: Powers of 2"
   ]
  },
  {
   "cell_type": "code",
   "execution_count": null,
   "metadata": {},
   "outputs": [],
   "source": [
    "# Create the list that has all of the powers of 2 from 2^0 to 2^50 inclusive\n",
    "\n",
    "powers_of_two = \n",
    "\n",
    "print(powers_of_two)"
   ]
  },
  {
   "cell_type": "code",
   "execution_count": null,
   "metadata": {},
   "outputs": [],
   "source": [
    "# Testing your list\n",
    "def test_powers_of_two_list(lst):\n",
    "    return [1, 2, 4, 8, 16, 32, 64, 128, 256, 512, 1024, \n",
    "            2048, 4096, 8192, 16384, 32768, 65536, 131072, \n",
    "            262144, 524288, 1048576, 2097152, 4194304, 8388608, \n",
    "            16777216, 33554432, 67108864, 134217728, 268435456, \n",
    "            536870912, 1073741824, 2147483648, 4294967296, 8589934592, \n",
    "            17179869184, 34359738368, 68719476736, 137438953472, 274877906944, \n",
    "            549755813888, 1099511627776, 2199023255552, 4398046511104, \n",
    "            8796093022208, 17592186044416, 35184372088832, 70368744177664, \n",
    "            140737488355328, 281474976710656, 562949953421312, 1125899906842624] == lst\n",
    "\n",
    "test_powers_of_two_list(powers_of_two)"
   ]
  },
  {
   "cell_type": "markdown",
   "metadata": {},
   "source": [
    "---\n",
    "## Practicing the Filter function\n",
    "\n",
    "Let's use the filter function for the following question."
   ]
  },
  {
   "cell_type": "markdown",
   "metadata": {},
   "source": [
    "### Question 5: Only Vowels\n",
    "The result of the filter method should be the following list `['o', 'u', 'a', 'o', 'o', 'a', 'e', 'e', 'i', 'o']` once it is casted using `list()`."
   ]
  },
  {
   "cell_type": "code",
   "execution_count": null,
   "metadata": {},
   "outputs": [],
   "source": [
    "sequence = ['t', 'P', 'R', 'Y', 'L', 'U', 'B', 'l', 'N', 'J', 's', 'C', 'p', 'o', 'M', \n",
    "            'x', 'u', 'n', 'q', 'B', 'h', 'W', 'C', 'S', 'L', 'X', 'f', 'T', 'x', 'R', \n",
    "            'a', 'j', 'F', 'J', 'h', 'L', 'I', 'J', 'L', 'W', 'Q', 'S', 'G', 'B', 'P', \n",
    "            'q', 'S', 'Q', 'Q', 'o', 'V', 'L', 'V', 'O', 'G', 'K', 'm', 'Y', 'c', 'k', \n",
    "            'v', 'b', 't', 'h', 'C', 'B', 'k', 'p', 'J', 'N', 'o', 'l', 'R', 'a', 'e', \n",
    "            'S', 'J', 'Q', 'n', 'b', 'g', 'x', 'g', 'K', 'Y', 't', 'e', 'F', 'i', 'T', \n",
    "            'h', 'X', 'o', 'S', 'N', 'l', 'Z', 'U', 'G', 'y']\n",
    "\n",
    "\n",
    "\n",
    "def only_vowels(letter):\n",
    "    # implement this function (hint: use the \"in\" keyword)\n",
    "    # Do not include \"y\" as a vowel\n",
    "    pass # you can delete this\n",
    "\n",
    "# Use the filter function below\n",
    "filter_example = \n",
    "\n",
    "print(filter_example)"
   ]
  },
  {
   "cell_type": "markdown",
   "metadata": {},
   "source": [
    "---\n",
    "## Practicing the Map function\n",
    "\n",
    "Let's use the map function for the following questions. The following diagram may help you solve these questions:\n",
    "\n",
    "\n",
    "![map_diagram.png](/map_diagram.png)"
   ]
  },
  {
   "cell_type": "markdown",
   "metadata": {},
   "source": [
    "### Question 6: Squares\n",
    "\n",
    "Use the map function to provide a list that has the squared values of the input sequence or list \n",
    "`sequence_lst = [1,2,7,4,0,6,14,8,9,10]`. Your map should return `[1, 4, 49, 16, 0, 36, 196, 64, 81, 100]`."
   ]
  },
  {
   "cell_type": "code",
   "execution_count": null,
   "metadata": {},
   "outputs": [],
   "source": [
    "sequence_lst = [1,2,7,4,0,6,14,8,9,10]\n",
    "\n",
    "# Add your map function here (hint: you may want to use a lambda!)\n",
    "map_example = \n",
    "\n",
    "print(map_example)"
   ]
  },
  {
   "cell_type": "markdown",
   "metadata": {},
   "source": [
    "#### Bonus: Can you provide a list comprehension that is equivalent to `map_example`?"
   ]
  },
  {
   "cell_type": "code",
   "execution_count": null,
   "metadata": {},
   "outputs": [],
   "source": [
    "# Add you solution here\n",
    "map_example_bonus = \n",
    "\n",
    "print(map_example_bonus)"
   ]
  },
  {
   "cell_type": "markdown",
   "metadata": {},
   "source": [
    "### Question 7: Compute the Average\n",
    "\n",
    "Can you provide a map function that for each element (a list of numbers) in `to_average_seq` can average the numbers in the list and return a list that has the average for each element in `to_average_seq`. You function should print out as `[13.0, 47.2, 1.0, 35.8, 37.75]`. Hint: You may want to consider using the built-in function `sum()` and `len()` and also consider using a lambda."
   ]
  },
  {
   "cell_type": "code",
   "execution_count": null,
   "metadata": {},
   "outputs": [],
   "source": [
    "to_average_seq = [[0,3,11,45,6],[90,31,44,68,3],[1,1,1,1],[2,5,8,111,53],[99,22,11,19]]\n",
    "\n",
    "# Add your map function here\n",
    "average_map_example = \n",
    "\n",
    "print(average_map_example)"
   ]
  },
  {
   "cell_type": "markdown",
   "metadata": {},
   "source": [
    "---\n",
    "## Practicing the Reduce Function\n",
    "\n",
    "Use the reduce function to answer the following questions. You can use the following diagram to help you solve the problems.\n",
    "\n",
    "![reduce_diagram.png](/reduce_diagram.png)"
   ]
  },
  {
   "cell_type": "markdown",
   "metadata": {},
   "source": [
    "### Question 8: Multiply all Elements\n",
    "\n",
    "Can you provide a reduce function that multiplies the elements together in the input list `test_sequence` from left to right? Your result should be `360` and your function should evaluate as follows `(((3*4)*5)*6) = 360`\n",
    "\n",
    "Hint: You may want to use a lambda function."
   ]
  },
  {
   "cell_type": "code",
   "execution_count": null,
   "metadata": {},
   "outputs": [],
   "source": [
    "test_sequence = [3,4,5,6]\n",
    "\n",
    "# Add your reduce function here\n",
    "multiply_all_elements_example = \n",
    "\n",
    "print(multiply_all_elements_example)"
   ]
  },
  {
   "cell_type": "markdown",
   "metadata": {},
   "source": [
    "### Question 9: List of Digits to Number\n",
    "\n",
    "Can you create a reduce function that can take in any arbitrary list of numbers, for example, `[1,2,3,4]` and return the corresponding integer `int` it represents `1234`. \n",
    "\n",
    "`[1,2,3,4] -> 1234` where the `->` would be your reduce function.\n",
    "\n",
    "To make things easy, you can assume that you will always receive a valid number representation as input and that you will not receive any negative numbers. \n",
    "\n",
    "Hint: You may want to use functions like `str()` and `int()`. You should also think carefully about the type and how reduce tends to nest or recurse."
   ]
  },
  {
   "cell_type": "code",
   "execution_count": null,
   "metadata": {},
   "outputs": [],
   "source": [
    "# The below list will be the sequence you take in as input to your reduce function\n",
    "digits_lst = [1,2,3,4]\n",
    "\n",
    "# Add your reduce function below\n",
    "digit_lst_to_number = \n",
    "\n",
    "print(digit_lst_to_number)\n"
   ]
  },
  {
   "cell_type": "code",
   "execution_count": null,
   "metadata": {},
   "outputs": [],
   "source": []
  }
 ],
 "metadata": {
  "kernelspec": {
   "display_name": "Python 3",
   "language": "python",
   "name": "python3"
  },
  "language_info": {
   "codemirror_mode": {
    "name": "ipython",
    "version": 3
   },
   "file_extension": ".py",
   "mimetype": "text/x-python",
   "name": "python",
   "nbconvert_exporter": "python",
   "pygments_lexer": "ipython3",
   "version": "3.7.1"
  }
 },
 "nbformat": 4,
 "nbformat_minor": 2
}
